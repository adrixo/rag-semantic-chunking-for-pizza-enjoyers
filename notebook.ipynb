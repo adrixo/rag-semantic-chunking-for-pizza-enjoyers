{
  "cells": [
    {
      "cell_type": "markdown",
      "metadata": {},
      "source": [
        "# RAG Semantic Chunking Demo\n",
        "\n",
        "## Semantic Chunking\n",
        "Semantic chunking groups sentences by meaning, preserving complete information units.\n"
      ]
    },
    {
      "cell_type": "code",
      "execution_count": null,
      "metadata": {},
      "outputs": [],
      "source": [
        "# Import necessary libraries\n",
        "import json\n",
        "import numpy as np\n",
        "from typing import List, Dict, Tuple\n",
        "\n",
        "print(\"RAG Semantic Chunking Demo\")\n",
        "print(\"=\" * 40)\n"
      ]
    },
    {
      "cell_type": "code",
      "execution_count": null,
      "metadata": {},
      "outputs": [],
      "source": [
        "# Sample data from the README - Pizza recipe chunks with semantic vectors\n",
        "pizza_chunks = {\n",
        "    \"chunk_1\": {\n",
        "        \"title\": \"Historical Context and Popularization\",\n",
        "        \"content\": \"Modern pizza was born in Naples, Italy, in the 18th century, but has a fascinating history of cultural exchange. Although flatbread with toppings existed since ancient times, pizza as we know it developed when tomatoes arrived from America in the 16th century. Initially viewed with suspicion, poor Neapolitans began using them on flatbread, creating the first 'pizza al pomodoro.' Pizza truly gained popularity in 1889 when pizzaiolo Raffaele Esposito created 'Pizza Margherita' for Queen Margherita of Savoy. From Naples, it spread throughout Italy and then worldwide thanks to Italian immigration.\",\n",
        "        \"vector\": [0.18, -0.42, 0.85]\n",
        "    },\n",
        "    \"chunk_2\": {\n",
        "        \"title\": \"Ingredients (American Connection)\",\n",
        "        \"content\": \"- Tomatoes: Originally from America, fundamental base for the sauce\\n- Peppers (optional): Also from America, for extra flavor\\n- Wheat flour: For the dough, cultivated in Italy but improved with New World techniques\\n- Mozzarella: Traditional Italian buffalo cheese\\n- Fresh basil: Italian Mediterranean herb\\n- Olive oil: Italian star product\\n- Salt and pepper: Basic seasonings\",\n",
        "        \"vector\": [0.15, -0.51, 0.83]\n",
        "    },\n",
        "    \"chunk_3\": {\n",
        "        \"title\": \"Preparation Process\",\n",
        "        \"content\": \"1. Mix flour, water, yeast, and salt for the dough\\n2. Let rest until it doubles in size\\n3. Roll out the dough in a circular shape\\n4. Spread tomato sauce evenly\\n5. Add mozzarella in pieces\\n6. Bake at 480°F for 10-12 minutes\\n7. Garnish with fresh basil when it comes out\",\n",
        "        \"vector\": [0.09, -0.48, 0.76]\n",
        "    },\n",
        "    \"chunk_4\": {\n",
        "        \"title\": \"Consumption Culture\",\n",
        "        \"content\": \"In Italy, pizza is cut into triangular portions and eaten with hands, slightly folding each piece. It's served hot, directly from the oven, and traditionally accompanied with light red wine or beer. Italians usually eat it for dinner, between 7 and 9 PM, and it's common to share it in family groups or with friends.\",\n",
        "        \"vector\": [0.21, -0.39, 0.81]\n",
        "    }\n",
        "}\n",
        "\n",
        "print(f\"Loaded {len(pizza_chunks)} semantic chunks\")\n",
        "for chunk_id, chunk in pizza_chunks.items():\n",
        "    print(f\"- {chunk['title']}: {len(chunk['content'])} chars\")\n"
      ]
    },
    {
      "cell_type": "code",
      "execution_count": null,
      "metadata": {},
      "outputs": [],
      "source": [
        "# Simple semantic search function\n",
        "def cosine_similarity(a: List[float], b: List[float]) -> float:\n",
        "    \"\"\"Calculate cosine similarity between two vectors.\"\"\"\n",
        "    a = np.array(a)\n",
        "    b = np.array(b)\n",
        "    return np.dot(a, b) / (np.linalg.norm(a) * np.linalg.norm(b))\n",
        "\n",
        "def semantic_search(query_vector: List[float], chunks: Dict, top_k: int = 2) -> List[Tuple[str, float]]:\n",
        "    \"\"\"Search for most similar chunks using cosine similarity.\"\"\"\n",
        "    similarities = []\n",
        "    for chunk_id, chunk in chunks.items():\n",
        "        similarity = cosine_similarity(query_vector, chunk['vector'])\n",
        "        similarities.append((chunk_id, similarity))\n",
        "    \n",
        "    # Sort by similarity (descending) and return top_k\n",
        "    similarities.sort(key=lambda x: x[1], reverse=True)\n",
        "    return similarities[:top_k]\n",
        "\n",
        "# Example query vectors\n",
        "queries = {\n",
        "    \"ingredients\": [0.12, -0.50, 0.80],  # Similar to ingredients chunk\n",
        "    \"history\": [0.20, -0.40, 0.85],      # Similar to historical chunk\n",
        "    \"cooking\": [0.10, -0.45, 0.75],     # Similar to preparation chunk\n",
        "    \"eating\": [0.22, -0.35, 0.82]       # Similar to consumption chunk\n",
        "}\n",
        "\n",
        "print(\"Semantic Search Demo\")\n",
        "print(\"=\" * 30)\n"
      ]
    },
    {
      "cell_type": "code",
      "execution_count": null,
      "metadata": {},
      "outputs": [],
      "source": [
        "# Test semantic search with different queries\n",
        "for query_name, query_vector in queries.items():\n",
        "    print(f\"\\n🔍 Query: '{query_name}'\")\n",
        "    print(f\"Query vector: {query_vector}\")\n",
        "    \n",
        "    results = semantic_search(query_vector, pizza_chunks, top_k=2)\n",
        "    \n",
        "    for i, (chunk_id, similarity) in enumerate(results, 1):\n",
        "        chunk = pizza_chunks[chunk_id]\n",
        "        print(f\"  {i}. {chunk['title']} (similarity: {similarity:.3f})\")\n",
        "        print(f\"     Content preview: {chunk['content'][:100]}...\")\n",
        "        print()\n"
      ]
    }
  ],
  "metadata": {
    "language_info": {
      "name": "python"
    }
  },
  "nbformat": 4,
  "nbformat_minor": 2
}
